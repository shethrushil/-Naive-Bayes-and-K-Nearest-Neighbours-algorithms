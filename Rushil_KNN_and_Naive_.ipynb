{
  "cells": [
    {
      "cell_type": "markdown",
      "metadata": {
        "id": "view-in-github",
        "colab_type": "text"
      },
      "source": [
        "<a href=\"https://colab.research.google.com/github/shethrushil/-Naive-Bayes-and-K-Nearest-Neighbours-algorithms/blob/main/Rushil_KNN_and_Naive_.ipynb\" target=\"_parent\"><img src=\"https://colab.research.google.com/assets/colab-badge.svg\" alt=\"Open In Colab\"/></a>"
      ]
    },
    {
      "cell_type": "code",
      "execution_count": null,
      "id": "3761fffa",
      "metadata": {
        "id": "3761fffa"
      },
      "outputs": [],
      "source": [
        "import numpy as np\n",
        "import pandas as pd\n",
        "from sklearn.model_selection import train_test_split\n",
        "\n"
      ]
    },
    {
      "cell_type": "code",
      "execution_count": null,
      "id": "8bfe3387",
      "metadata": {
        "id": "8bfe3387"
      },
      "outputs": [],
      "source": [
        "# Read the CSV files\n",
        "df = pd.read_csv(r\"C:\\Users\\rushil\\Downloads\\titanic\\train.csv\")\n",
        "df_test = pd.read_csv(r\"C:\\Users\\rushil\\Downloads\\titanic\\test.csv\")\n",
        "\n",
        "# Drop unnecessary columns\n",
        "df.drop([\"Cabin\", \"Name\", \"PassengerId\", \"Ticket\"], axis=1, inplace=True)\n",
        "df_test.drop([\"Cabin\", \"Name\", \"PassengerId\", \"Ticket\"], axis=1, inplace=True)\n",
        "\n",
        "# Map categorical variables to numerical values\n",
        "df['Sex'] = df['Sex'].map({'male': 0, 'female': 1})\n",
        "df['Embarked'] = df['Embarked'].map({'S': 1, 'C': 2, 'Q': 3})\n",
        "\n",
        "# Handle missing values and bin numerical variables\n",
        "df['Age'] = df['Age'].fillna(method='backfill')\n",
        "df['Embarked'] = df['Embarked'].fillna(method='ffill')\n",
        "\n",
        "df = df[['Age', 'Embarked', 'Fare', 'Parch', 'Pclass', 'Sex', 'SibSp', 'Survived']]\n",
        "df_test = df_test[['Age', 'Embarked', 'Fare', 'Parch', 'Pclass', 'Sex', 'SibSp']]\n",
        "\n",
        "\n"
      ]
    },
    {
      "cell_type": "code",
      "execution_count": null,
      "id": "d1529fd5",
      "metadata": {
        "id": "d1529fd5"
      },
      "outputs": [],
      "source": [
        "# Bin the 'Age' variable\n",
        "data = [df, df_test]\n",
        "for d in data:\n",
        "    d['Age'] = d['Age'].fillna(-1).astype(int)\n",
        "    d.loc[d['Age'] <= 10, 'Age'] = 0\n",
        "    d.loc[(d['Age'] > 10) & (d['Age'] <= 18), 'Age'] = 1\n",
        "    d.loc[(d['Age'] > 18) & (d['Age'] <= 25), 'Age'] = 2\n",
        "    d.loc[(d['Age'] > 25) & (d['Age'] <= 30), 'Age'] = 3\n",
        "    d.loc[(d['Age'] > 30) & (d['Age'] <= 35), 'Age'] = 4\n",
        "    d.loc[(d['Age'] > 35) & (d['Age'] <= 40), 'Age'] = 5\n",
        "    d.loc[(d['Age'] > 40) & (d['Age'] <= 65), 'Age'] = 6\n",
        "    d.loc[d['Age'] > 65, 'Age'] = 6\n",
        "\n",
        "# Bin the 'Fare' variable\n",
        "data = [df, df_test]\n",
        "for d in data:\n",
        "    d.loc[d['Fare'] <= 8, 'Fare'] = 0\n",
        "    d.loc[(d['Fare'] > 8) & (d['Fare'] <= 15), 'Fare'] = 1\n",
        "    d.loc[(d['Fare'] > 15) & (d['Fare'] <= 31), 'Fare'] = 2\n",
        "    d.loc[(d['Fare'] > 31) & (d['Fare'] <= 99), 'Fare'] = 3\n",
        "    d.loc[(d['Fare'] > 99) & (d['Fare'] <= 250), 'Fare'] = 4\n",
        "    d.loc[d['Fare'] > 250, 'Fare'] = 5\n",
        "    d['Fare'] = d['Fare'].fillna(-1).astype(int)\n",
        "\n"
      ]
    },
    {
      "cell_type": "code",
      "execution_count": null,
      "id": "3def4e09",
      "metadata": {
        "id": "3def4e09"
      },
      "outputs": [],
      "source": [
        "# Convert 'Survived' column to integer type\n",
        "df.Survived = df.Survived.astype(int)\n",
        "\n",
        "# Split the data into training and test sets\n",
        "train, test = train_test_split(df, test_size=0.2)\n",
        "\n",
        "# Calculate prior probabilities of survival and non-survival\n",
        "survived_yes = train.loc[train.Survived == 1]\n",
        "P_yes = len(survived_yes) / len(train)\n",
        "\n",
        "survived_no = train.loc[train.Survived == 0]\n",
        "P_no = len(survived_no) / len(train)\n",
        "\n",
        "# Create a DataFrame to store actual and predicted values\n",
        "output_dataframe = pd.DataFrame(columns=['Actual', 'Predicted'])\n",
        "\n"
      ]
    },
    {
      "cell_type": "code",
      "execution_count": null,
      "id": "047d285d",
      "metadata": {
        "id": "047d285d"
      },
      "outputs": [],
      "source": [
        "# Iterate over each row in the test set\n",
        "# Iterate over each row in the test set\n",
        "for row in test.itertuples(index=False):\n",
        "    test1 = list(row[:-1])  # Exclude the last element (actual value)\n",
        "    ans = row[-1]  # Last element is the actual value\n",
        "\n",
        "    py = 1\n",
        "    for j in range(len(test1)):\n",
        "        val = train[(train[train.columns[j]] == test1[j]) & (train.Survived == 1)].shape[0]\n",
        "        py *= val / len(survived_yes)\n",
        "    total_yes = py * P_yes\n",
        "\n",
        "    pn = 1\n",
        "    for j in range(len(test1)):\n",
        "        val = train[(train[train.columns[j]] == test1[j]) & (train.Survived == 0)].shape[0]\n",
        "        pn *= val / len(survived_no)\n",
        "    total_no = pn * P_no\n",
        "\n",
        "    # Compare probabilities and assign predicted value\n",
        "    if total_yes > total_no:\n",
        "        list1 = [[ans, 1]]\n",
        "        output_dataframe = output_dataframe.append(pd.DataFrame(list1, columns=['Actual', 'Predicted']), ignore_index=True)\n",
        "    else:\n",
        "        list0 = [[ans, 0]]\n",
        "        output_dataframe = output_dataframe.append(pd.DataFrame(list0, columns=['Actual', 'Predicted']), ignore_index=True)\n",
        "\n"
      ]
    },
    {
      "cell_type": "code",
      "execution_count": null,
      "id": "ae6e6262",
      "metadata": {
        "id": "ae6e6262",
        "outputId": "f30e7d2a-f6be-4045-a163-531e7c445e81"
      },
      "outputs": [
        {
          "name": "stdout",
          "output_type": "stream",
          "text": [
            "The accuracy for the test set is 80.44692737430168 %\n",
            "The precision for the test set is 81.81818181818183 %\n",
            "The recall for the test set is 64.28571428571429 %\n"
          ]
        }
      ],
      "source": [
        "# Calculate true positives, true negatives, false positives, and false negatives\n",
        "TP = output_dataframe[(output_dataframe['Predicted'] == 1) & (output_dataframe['Actual'] == 1)].shape[0]\n",
        "TN = output_dataframe[(output_dataframe['Predicted'] == 0) & (output_dataframe['Actual'] == 0)].shape[0]\n",
        "FP = output_dataframe[(output_dataframe['Predicted'] == 1) & (output_dataframe['Actual'] == 0)].shape[0]\n",
        "FN = output_dataframe[(output_dataframe['Predicted'] == 0) & (output_dataframe['Actual'] == 1)].shape[0]\n",
        "\n",
        "# Calculate accuracy, precision, and recall\n",
        "accuracy = (TP + TN) / len(output_dataframe)\n",
        "print(\"The accuracy for the test set is\", accuracy * 100, \"%\")\n",
        "\n",
        "precision = TP / (TP + FP)\n",
        "print(\"The precision for the test set is\", precision * 100, \"%\")\n",
        "\n",
        "recall = TP / (TP + FN)\n",
        "print(\"The recall for the test set is\", recall * 100, \"%\")"
      ]
    },
    {
      "cell_type": "code",
      "execution_count": null,
      "id": "5bc82d72",
      "metadata": {
        "id": "5bc82d72"
      },
      "outputs": [],
      "source": [
        "#knn\n",
        "\n",
        "# Split the data into training and test sets\n",
        "train, test = train_test_split(df, test_size=0.2)\n",
        "\n",
        "# Calculate prior probabilities of survival and non-survival\n",
        "survived_yes = train.loc[train.Survived == 1]\n",
        "P_yes = len(survived_yes) / len(train)\n",
        "\n",
        "survived_no = train.loc[train.Survived == 0]\n",
        "P_no = len(survived_no) / len(train)\n",
        "\n"
      ]
    },
    {
      "cell_type": "code",
      "execution_count": null,
      "id": "90534193",
      "metadata": {
        "id": "90534193"
      },
      "outputs": [],
      "source": [
        "# Create a DataFrame to store actual and predicted values\n",
        "output_dataframe = pd.DataFrame(columns=['Actual', 'Predicted'])\n",
        "\n",
        "# Iterate over each row in the test set\n",
        "for row in test.itertuples(index=False):\n",
        "    test1 = list(row[:-1])  # Exclude the last element (actual value)\n",
        "    ans = row[-1]  # Last element is the actual value\n",
        "\n",
        "    distances = []\n",
        "    for train_row in train.itertuples(index=False):\n",
        "        train1 = list(train_row[:-1])\n",
        "        distance = np.sqrt(np.sum(np.square(np.subtract(train1, test1))))\n",
        "        distances.append((train1, distance))\n",
        "\n",
        "    # Sort distances in ascending order\n",
        "    distances.sort(key=lambda x: x[1])\n",
        "\n",
        "    k = 5  # Set the value of K (number of neighbors)\n",
        "    neighbors = [item[0] for item in distances[:k]]\n",
        "\n",
        "    total_yes = sum(1 for neighbor in neighbors if neighbor[-1] == 1)\n",
        "    total_no = sum(1 for neighbor in neighbors if neighbor[-1] == 0)\n",
        "\n",
        "    # Compare counts and assign predicted value\n",
        "    if total_yes > total_no:\n",
        "        list1 = [[ans, 1]]\n",
        "        output_dataframe = output_dataframe.append(pd.DataFrame(list1, columns=['Actual', 'Predicted']), ignore_index=True)\n",
        "    else:\n",
        "        list0 = [[ans, 0]]\n",
        "        output_dataframe = output_dataframe.append(pd.DataFrame(list0, columns=['Actual', 'Predicted']), ignore_index=True)\n",
        "\n"
      ]
    },
    {
      "cell_type": "code",
      "execution_count": null,
      "id": "c726492c",
      "metadata": {
        "id": "c726492c",
        "outputId": "85b701a2-e493-402e-b3d6-f8a89e39de1e"
      },
      "outputs": [
        {
          "name": "stdout",
          "output_type": "stream",
          "text": [
            "The accuracy for the test set is 63.687150837988824 %\n",
            "The precision for the test set is 52.63157894736842 %\n",
            "The recall for the test set is 44.11764705882353 %\n"
          ]
        }
      ],
      "source": [
        "# Calculate true positives, true negatives, false positives, and false negatives\n",
        "TP = output_dataframe[(output_dataframe['Predicted'] == 1) & (output_dataframe['Actual'] == 1)].shape[0]\n",
        "TN = output_dataframe[(output_dataframe['Predicted'] == 0) & (output_dataframe['Actual'] == 0)].shape[0]\n",
        "FP = output_dataframe[(output_dataframe['Predicted'] == 1) & (output_dataframe['Actual'] == 0)].shape[0]\n",
        "FN = output_dataframe[(output_dataframe['Predicted'] == 0) & (output_dataframe['Actual'] == 1)].shape[0]\n",
        "\n",
        "# Calculate accuracy, precision, and recall\n",
        "accuracy = (TP + TN) / len(output_dataframe)\n",
        "print(\"The accuracy for the test set is\", accuracy * 100, \"%\")\n",
        "\n",
        "precision = TP / (TP + FP)\n",
        "print(\"The precision for the test set is\", precision * 100, \"%\")\n",
        "\n",
        "recall = TP / (TP + FN)\n",
        "print(\"The recall for the test set is\", recall * 100, \"%\")"
      ]
    }
  ],
  "metadata": {
    "kernelspec": {
      "display_name": "Python 3 (ipykernel)",
      "language": "python",
      "name": "python3"
    },
    "language_info": {
      "codemirror_mode": {
        "name": "ipython",
        "version": 3
      },
      "file_extension": ".py",
      "mimetype": "text/x-python",
      "name": "python",
      "nbconvert_exporter": "python",
      "pygments_lexer": "ipython3",
      "version": "3.9.13"
    },
    "colab": {
      "provenance": [],
      "include_colab_link": true
    }
  },
  "nbformat": 4,
  "nbformat_minor": 5
}